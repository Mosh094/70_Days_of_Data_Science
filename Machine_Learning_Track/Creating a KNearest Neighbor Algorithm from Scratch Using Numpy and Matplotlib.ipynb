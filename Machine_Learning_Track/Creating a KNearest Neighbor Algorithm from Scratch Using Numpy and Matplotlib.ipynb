{
 "cells": [
  {
   "cell_type": "markdown",
   "metadata": {},
   "source": [
    "# Import Relevant Libraries"
   ]
  },
  {
   "cell_type": "code",
   "execution_count": 11,
   "metadata": {},
   "outputs": [],
   "source": [
    "from math import sqrt\n",
    "import numpy as np\n",
    "import matplotlib.pyplot as plt\n",
    "import warnings\n",
    "from matplotlib import style\n",
    "from collections import Counter\n",
    "style.use('fivethirtyeight')"
   ]
  },
  {
   "cell_type": "markdown",
   "metadata": {},
   "source": [
    "# Declared Dataset "
   ]
  },
  {
   "cell_type": "code",
   "execution_count": 12,
   "metadata": {},
   "outputs": [],
   "source": [
    "dataset = {'k':[[1,2], [2,3], [3,1]], 'r' : [[6,5],[7,7],[8,6]]}\n",
    "new_features = [5,7]"
   ]
  },
  {
   "cell_type": "markdown",
   "metadata": {},
   "source": [
    "# Calculate Euclidean Distance"
   ]
  },
  {
   "cell_type": "code",
   "execution_count": 20,
   "metadata": {},
   "outputs": [],
   "source": [
    "def k_nearest_neighbors (data, predict, k=3):\n",
    "    if len(data) >= k:\n",
    "        warning.warn('k is set to a value less than the total number of voting groups!')\n",
    "    distances = []\n",
    "    for group in data:\n",
    "        for features in data[group]:\n",
    "            #ecludiean distance can be gotten using either of the following:\n",
    "            #euclidean_distance = sqrt( (features[0]-predict[0])**2 + (features[1]-predict[1])**2)\n",
    "            #euclidean_distance = np.sqrt( np.sum((np.array(features) - np.array(predict))**2))\n",
    "            euclidean_distance = np.linalg.norm(np.array(features) - np.array(predict)) #this is the faster of the 3\n",
    "            distances.append([euclidean_distance, group])\n",
    "    vote = [i[1] for i in sorted(distances)[:k]]\n",
    "    print(Counter(vote).most_common(1))\n",
    "    vote_result = Counter(vote).most_common(1)[0][0]\n",
    "    return vote_result"
   ]
  },
  {
   "cell_type": "markdown",
   "metadata": {},
   "source": [
    "# Prediction"
   ]
  },
  {
   "cell_type": "code",
   "execution_count": 21,
   "metadata": {},
   "outputs": [
    {
     "name": "stdout",
     "output_type": "stream",
     "text": [
      "[('r', 3)]\n",
      "r\n"
     ]
    }
   ],
   "source": [
    "result = k_nearest_neighbors (dataset, new_features, k=3)\n",
    "print(result)"
   ]
  },
  {
   "cell_type": "markdown",
   "metadata": {},
   "source": [
    "# Visualise Dataset and Prediction"
   ]
  },
  {
   "cell_type": "code",
   "execution_count": 23,
   "metadata": {},
   "outputs": [
    {
     "data": {
      "image/png": "[encoded data removed]",
      "text/plain": [
       "<Figure size 432x288 with 1 Axes>"
      ]
     },
     "metadata": {},
     "output_type": "display_data"
    }
   ],
   "source": [
    "for i in dataset:\n",
    "    for ii in dataset[i]:\n",
    "        [[plt.scatter(ii[0], ii[1], s=100, color=i) for ii in dataset[i]] for i in dataset]\n",
    "plt.scatter(new_features[0], new_features[1], s=50, color=result)\n",
    "plt.show()"
   ]
  },
  {
   "cell_type": "code",
   "execution_count": null,
   "metadata": {},
   "outputs": [],
   "source": []
  }
 ],
 "metadata": {
  "kernelspec": {
   "display_name": "Python [conda env:root] *",
   "language": "python",
   "name": "conda-root-py"
  },
  "language_info": {
   "codemirror_mode": {
    "name": "ipython",
    "version": 3
   },
   "file_extension": ".py",
   "mimetype": "text/x-python",
   "name": "python",
   "nbconvert_exporter": "python",
   "pygments_lexer": "ipython3",
   "version": "3.7.5"
  }
 },
 "nbformat": 4,
 "nbformat_minor": 2
}
