{
 "cells": [
  {
   "cell_type": "markdown",
   "metadata": {},
   "source": [
    "# Import Libraries"
   ]
  },
  {
   "cell_type": "markdown",
   "metadata": {},
   "source": [
    "This is a linear regression model used to predict the google shares based on data from quandl"
   ]
  },
  {
   "cell_type": "code",
   "execution_count": 1,
   "metadata": {},
   "outputs": [],
   "source": [
    "import pandas as pd\n",
    "import quandl\n",
    "import math, datetime\n",
    "import numpy as np\n",
    "from sklearn import preprocessing, svm # or from sklearn.model_selection import cross_validate, train_test_split\n",
    "from sklearn.model_selection import train_test_split\n",
    "from sklearn.linear_model import LinearRegression\n",
    "import matplotlib.pyplot as plt\n",
    "import pickle\n",
    "from matplotlib import style\n",
    "style.use('ggplot')"
   ]
  },
  {
   "cell_type": "markdown",
   "metadata": {},
   "source": [
    "# Read File from Quandl-\n",
    "Note: the file name is as stated on Quandl. you can download or use the quandl.get command"
   ]
  },
  {
   "cell_type": "code",
   "execution_count": 2,
   "metadata": {
    "scrolled": true
   },
   "outputs": [
    {
     "data": {
      "text/html": [
       "<div>\n",
       "<style scoped>\n",
       "    .dataframe tbody tr th:only-of-type {\n",
       "        vertical-align: middle;\n",
       "    }\n",
       "\n",
       "    .dataframe tbody tr th {\n",
       "        vertical-align: top;\n",
       "    }\n",
       "\n",
       "    .dataframe thead th {\n",
       "        text-align: right;\n",
       "    }\n",
       "</style>\n",
       "<table border=\"1\" class=\"dataframe\">\n",
       "  <thead>\n",
       "    <tr style=\"text-align: right;\">\n",
       "      <th></th>\n",
       "      <th>Open</th>\n",
       "      <th>High</th>\n",
       "      <th>Low</th>\n",
       "      <th>Close</th>\n",
       "      <th>Volume</th>\n",
       "      <th>Ex-Dividend</th>\n",
       "      <th>Split Ratio</th>\n",
       "      <th>Adj. Open</th>\n",
       "      <th>Adj. High</th>\n",
       "      <th>Adj. Low</th>\n",
       "      <th>Adj. Close</th>\n",
       "      <th>Adj. Volume</th>\n",
       "    </tr>\n",
       "    <tr>\n",
       "      <th>Date</th>\n",
       "      <th></th>\n",
       "      <th></th>\n",
       "      <th></th>\n",
       "      <th></th>\n",
       "      <th></th>\n",
       "      <th></th>\n",
       "      <th></th>\n",
       "      <th></th>\n",
       "      <th></th>\n",
       "      <th></th>\n",
       "      <th></th>\n",
       "      <th></th>\n",
       "    </tr>\n",
       "  </thead>\n",
       "  <tbody>\n",
       "    <tr>\n",
       "      <th>2004-08-19</th>\n",
       "      <td>100.01</td>\n",
       "      <td>104.06</td>\n",
       "      <td>95.96</td>\n",
       "      <td>100.335</td>\n",
       "      <td>44659000.0</td>\n",
       "      <td>0.0</td>\n",
       "      <td>1.0</td>\n",
       "      <td>50.159839</td>\n",
       "      <td>52.191109</td>\n",
       "      <td>48.128568</td>\n",
       "      <td>50.322842</td>\n",
       "      <td>44659000.0</td>\n",
       "    </tr>\n",
       "    <tr>\n",
       "      <th>2004-08-20</th>\n",
       "      <td>101.01</td>\n",
       "      <td>109.08</td>\n",
       "      <td>100.50</td>\n",
       "      <td>108.310</td>\n",
       "      <td>22834300.0</td>\n",
       "      <td>0.0</td>\n",
       "      <td>1.0</td>\n",
       "      <td>50.661387</td>\n",
       "      <td>54.708881</td>\n",
       "      <td>50.405597</td>\n",
       "      <td>54.322689</td>\n",
       "      <td>22834300.0</td>\n",
       "    </tr>\n",
       "    <tr>\n",
       "      <th>2004-08-23</th>\n",
       "      <td>110.76</td>\n",
       "      <td>113.48</td>\n",
       "      <td>109.05</td>\n",
       "      <td>109.400</td>\n",
       "      <td>18256100.0</td>\n",
       "      <td>0.0</td>\n",
       "      <td>1.0</td>\n",
       "      <td>55.551482</td>\n",
       "      <td>56.915693</td>\n",
       "      <td>54.693835</td>\n",
       "      <td>54.869377</td>\n",
       "      <td>18256100.0</td>\n",
       "    </tr>\n",
       "    <tr>\n",
       "      <th>2004-08-24</th>\n",
       "      <td>111.24</td>\n",
       "      <td>111.60</td>\n",
       "      <td>103.57</td>\n",
       "      <td>104.870</td>\n",
       "      <td>15247300.0</td>\n",
       "      <td>0.0</td>\n",
       "      <td>1.0</td>\n",
       "      <td>55.792225</td>\n",
       "      <td>55.972783</td>\n",
       "      <td>51.945350</td>\n",
       "      <td>52.597363</td>\n",
       "      <td>15247300.0</td>\n",
       "    </tr>\n",
       "    <tr>\n",
       "      <th>2004-08-25</th>\n",
       "      <td>104.76</td>\n",
       "      <td>108.00</td>\n",
       "      <td>103.88</td>\n",
       "      <td>106.000</td>\n",
       "      <td>9188600.0</td>\n",
       "      <td>0.0</td>\n",
       "      <td>1.0</td>\n",
       "      <td>52.542193</td>\n",
       "      <td>54.167209</td>\n",
       "      <td>52.100830</td>\n",
       "      <td>53.164113</td>\n",
       "      <td>9188600.0</td>\n",
       "    </tr>\n",
       "  </tbody>\n",
       "</table>\n",
       "</div>"
      ],
      "text/plain": [
       "              Open    High     Low    Close      Volume  Ex-Dividend  \\\n",
       "Date                                                                   \n",
       "2004-08-19  100.01  104.06   95.96  100.335  44659000.0          0.0   \n",
       "2004-08-20  101.01  109.08  100.50  108.310  22834300.0          0.0   \n",
       "2004-08-23  110.76  113.48  109.05  109.400  18256100.0          0.0   \n",
       "2004-08-24  111.24  111.60  103.57  104.870  15247300.0          0.0   \n",
       "2004-08-25  104.76  108.00  103.88  106.000   9188600.0          0.0   \n",
       "\n",
       "            Split Ratio  Adj. Open  Adj. High   Adj. Low  Adj. Close  \\\n",
       "Date                                                                   \n",
       "2004-08-19          1.0  50.159839  52.191109  48.128568   50.322842   \n",
       "2004-08-20          1.0  50.661387  54.708881  50.405597   54.322689   \n",
       "2004-08-23          1.0  55.551482  56.915693  54.693835   54.869377   \n",
       "2004-08-24          1.0  55.792225  55.972783  51.945350   52.597363   \n",
       "2004-08-25          1.0  52.542193  54.167209  52.100830   53.164113   \n",
       "\n",
       "            Adj. Volume  \n",
       "Date                     \n",
       "2004-08-19   44659000.0  \n",
       "2004-08-20   22834300.0  \n",
       "2004-08-23   18256100.0  \n",
       "2004-08-24   15247300.0  \n",
       "2004-08-25    9188600.0  "
      ]
     },
     "execution_count": 2,
     "metadata": {},
     "output_type": "execute_result"
    }
   ],
   "source": [
    "df = quandl.get('WIKI/GOOGL')\n",
    "df.head()"
   ]
  },
  {
   "cell_type": "markdown",
   "metadata": {},
   "source": [
    "# Remove irrelevant columns and retain the relevant ones"
   ]
  },
  {
   "cell_type": "code",
   "execution_count": 3,
   "metadata": {},
   "outputs": [
    {
     "data": {
      "text/html": [
       "<div>\n",
       "<style scoped>\n",
       "    .dataframe tbody tr th:only-of-type {\n",
       "        vertical-align: middle;\n",
       "    }\n",
       "\n",
       "    .dataframe tbody tr th {\n",
       "        vertical-align: top;\n",
       "    }\n",
       "\n",
       "    .dataframe thead th {\n",
       "        text-align: right;\n",
       "    }\n",
       "</style>\n",
       "<table border=\"1\" class=\"dataframe\">\n",
       "  <thead>\n",
       "    <tr style=\"text-align: right;\">\n",
       "      <th></th>\n",
       "      <th>Adj. Open</th>\n",
       "      <th>Adj. High</th>\n",
       "      <th>Adj. Low</th>\n",
       "      <th>Adj. Close</th>\n",
       "      <th>Adj. Volume</th>\n",
       "    </tr>\n",
       "    <tr>\n",
       "      <th>Date</th>\n",
       "      <th></th>\n",
       "      <th></th>\n",
       "      <th></th>\n",
       "      <th></th>\n",
       "      <th></th>\n",
       "    </tr>\n",
       "  </thead>\n",
       "  <tbody>\n",
       "    <tr>\n",
       "      <th>2004-08-19</th>\n",
       "      <td>50.159839</td>\n",
       "      <td>52.191109</td>\n",
       "      <td>48.128568</td>\n",
       "      <td>50.322842</td>\n",
       "      <td>44659000.0</td>\n",
       "    </tr>\n",
       "    <tr>\n",
       "      <th>2004-08-20</th>\n",
       "      <td>50.661387</td>\n",
       "      <td>54.708881</td>\n",
       "      <td>50.405597</td>\n",
       "      <td>54.322689</td>\n",
       "      <td>22834300.0</td>\n",
       "    </tr>\n",
       "    <tr>\n",
       "      <th>2004-08-23</th>\n",
       "      <td>55.551482</td>\n",
       "      <td>56.915693</td>\n",
       "      <td>54.693835</td>\n",
       "      <td>54.869377</td>\n",
       "      <td>18256100.0</td>\n",
       "    </tr>\n",
       "    <tr>\n",
       "      <th>2004-08-24</th>\n",
       "      <td>55.792225</td>\n",
       "      <td>55.972783</td>\n",
       "      <td>51.945350</td>\n",
       "      <td>52.597363</td>\n",
       "      <td>15247300.0</td>\n",
       "    </tr>\n",
       "    <tr>\n",
       "      <th>2004-08-25</th>\n",
       "      <td>52.542193</td>\n",
       "      <td>54.167209</td>\n",
       "      <td>52.100830</td>\n",
       "      <td>53.164113</td>\n",
       "      <td>9188600.0</td>\n",
       "    </tr>\n",
       "    <tr>\n",
       "      <th>...</th>\n",
       "      <td>...</td>\n",
       "      <td>...</td>\n",
       "      <td>...</td>\n",
       "      <td>...</td>\n",
       "      <td>...</td>\n",
       "    </tr>\n",
       "    <tr>\n",
       "      <th>2018-03-21</th>\n",
       "      <td>1092.570000</td>\n",
       "      <td>1108.700000</td>\n",
       "      <td>1087.210000</td>\n",
       "      <td>1094.000000</td>\n",
       "      <td>1990515.0</td>\n",
       "    </tr>\n",
       "    <tr>\n",
       "      <th>2018-03-22</th>\n",
       "      <td>1080.010000</td>\n",
       "      <td>1083.920000</td>\n",
       "      <td>1049.640000</td>\n",
       "      <td>1053.150000</td>\n",
       "      <td>3418154.0</td>\n",
       "    </tr>\n",
       "    <tr>\n",
       "      <th>2018-03-23</th>\n",
       "      <td>1051.370000</td>\n",
       "      <td>1066.780000</td>\n",
       "      <td>1024.870000</td>\n",
       "      <td>1026.550000</td>\n",
       "      <td>2413517.0</td>\n",
       "    </tr>\n",
       "    <tr>\n",
       "      <th>2018-03-26</th>\n",
       "      <td>1050.600000</td>\n",
       "      <td>1059.270000</td>\n",
       "      <td>1010.580000</td>\n",
       "      <td>1054.090000</td>\n",
       "      <td>3272409.0</td>\n",
       "    </tr>\n",
       "    <tr>\n",
       "      <th>2018-03-27</th>\n",
       "      <td>1063.900000</td>\n",
       "      <td>1064.540000</td>\n",
       "      <td>997.620000</td>\n",
       "      <td>1006.940000</td>\n",
       "      <td>2940957.0</td>\n",
       "    </tr>\n",
       "  </tbody>\n",
       "</table>\n",
       "<p>3424 rows × 5 columns</p>\n",
       "</div>"
      ],
      "text/plain": [
       "              Adj. Open    Adj. High     Adj. Low   Adj. Close  Adj. Volume\n",
       "Date                                                                       \n",
       "2004-08-19    50.159839    52.191109    48.128568    50.322842   44659000.0\n",
       "2004-08-20    50.661387    54.708881    50.405597    54.322689   22834300.0\n",
       "2004-08-23    55.551482    56.915693    54.693835    54.869377   18256100.0\n",
       "2004-08-24    55.792225    55.972783    51.945350    52.597363   15247300.0\n",
       "2004-08-25    52.542193    54.167209    52.100830    53.164113    9188600.0\n",
       "...                 ...          ...          ...          ...          ...\n",
       "2018-03-21  1092.570000  1108.700000  1087.210000  1094.000000    1990515.0\n",
       "2018-03-22  1080.010000  1083.920000  1049.640000  1053.150000    3418154.0\n",
       "2018-03-23  1051.370000  1066.780000  1024.870000  1026.550000    2413517.0\n",
       "2018-03-26  1050.600000  1059.270000  1010.580000  1054.090000    3272409.0\n",
       "2018-03-27  1063.900000  1064.540000   997.620000  1006.940000    2940957.0\n",
       "\n",
       "[3424 rows x 5 columns]"
      ]
     },
     "execution_count": 3,
     "metadata": {},
     "output_type": "execute_result"
    }
   ],
   "source": [
    "df = df[['Adj. Open', 'Adj. High', 'Adj. Low', 'Adj. Close', 'Adj. Volume']]\n",
    "df"
   ]
  },
  {
   "cell_type": "markdown",
   "metadata": {},
   "source": [
    "# Get %volatility in stock. i.e high minus close"
   ]
  },
  {
   "cell_type": "code",
   "execution_count": 4,
   "metadata": {},
   "outputs": [
    {
     "data": {
      "text/plain": [
       "Date\n",
       "2004-08-19    8.072956\n",
       "2004-08-20    7.921706\n",
       "2004-08-23    4.049360\n",
       "2004-08-24    7.657099\n",
       "2004-08-25    3.886792\n",
       "                ...   \n",
       "2018-03-21    1.964351\n",
       "2018-03-22    3.254997\n",
       "2018-03-23    4.082607\n",
       "2018-03-26    4.619150\n",
       "2018-03-27    6.645878\n",
       "Name: HL_PCT, Length: 3424, dtype: float64"
      ]
     },
     "execution_count": 4,
     "metadata": {},
     "output_type": "execute_result"
    }
   ],
   "source": [
    "df['HL_PCT'] = (df['Adj. High'] - df['Adj. Low'])/df['Adj. Close'] * 100\n",
    "df['HL_PCT']"
   ]
  },
  {
   "cell_type": "markdown",
   "metadata": {},
   "source": [
    "# Get % change(%volatility) in stock. i.e open minus close"
   ]
  },
  {
   "cell_type": "code",
   "execution_count": 5,
   "metadata": {},
   "outputs": [
    {
     "data": {
      "text/plain": [
       "Date\n",
       "2004-08-19    0.324968\n",
       "2004-08-20    7.227007\n",
       "2004-08-23   -1.227880\n",
       "2004-08-24   -5.726357\n",
       "2004-08-25    1.183658\n",
       "                ...   \n",
       "2018-03-21    0.130884\n",
       "2018-03-22   -2.487014\n",
       "2018-03-23   -2.360729\n",
       "2018-03-26    0.332191\n",
       "2018-03-27   -5.353887\n",
       "Name: CHANGE_PCT, Length: 3424, dtype: float64"
      ]
     },
     "execution_count": 5,
     "metadata": {},
     "output_type": "execute_result"
    }
   ],
   "source": [
    "df['CHANGE_PCT'] = (df['Adj. Close'] - df['Adj. Open'])/df['Adj. Open'] * 100\n",
    "df['CHANGE_PCT']"
   ]
  },
  {
   "cell_type": "markdown",
   "metadata": {},
   "source": [
    "# Define a new database. i.e only column we care about"
   ]
  },
  {
   "cell_type": "code",
   "execution_count": 6,
   "metadata": {},
   "outputs": [
    {
     "data": {
      "text/html": [
       "<div>\n",
       "<style scoped>\n",
       "    .dataframe tbody tr th:only-of-type {\n",
       "        vertical-align: middle;\n",
       "    }\n",
       "\n",
       "    .dataframe tbody tr th {\n",
       "        vertical-align: top;\n",
       "    }\n",
       "\n",
       "    .dataframe thead th {\n",
       "        text-align: right;\n",
       "    }\n",
       "</style>\n",
       "<table border=\"1\" class=\"dataframe\">\n",
       "  <thead>\n",
       "    <tr style=\"text-align: right;\">\n",
       "      <th></th>\n",
       "      <th>Adj. Close</th>\n",
       "      <th>HL_PCT</th>\n",
       "      <th>CHANGE_PCT</th>\n",
       "      <th>Adj. Volume</th>\n",
       "    </tr>\n",
       "    <tr>\n",
       "      <th>Date</th>\n",
       "      <th></th>\n",
       "      <th></th>\n",
       "      <th></th>\n",
       "      <th></th>\n",
       "    </tr>\n",
       "  </thead>\n",
       "  <tbody>\n",
       "    <tr>\n",
       "      <th>2004-08-19</th>\n",
       "      <td>50.322842</td>\n",
       "      <td>8.072956</td>\n",
       "      <td>0.324968</td>\n",
       "      <td>44659000.0</td>\n",
       "    </tr>\n",
       "    <tr>\n",
       "      <th>2004-08-20</th>\n",
       "      <td>54.322689</td>\n",
       "      <td>7.921706</td>\n",
       "      <td>7.227007</td>\n",
       "      <td>22834300.0</td>\n",
       "    </tr>\n",
       "    <tr>\n",
       "      <th>2004-08-23</th>\n",
       "      <td>54.869377</td>\n",
       "      <td>4.049360</td>\n",
       "      <td>-1.227880</td>\n",
       "      <td>18256100.0</td>\n",
       "    </tr>\n",
       "    <tr>\n",
       "      <th>2004-08-24</th>\n",
       "      <td>52.597363</td>\n",
       "      <td>7.657099</td>\n",
       "      <td>-5.726357</td>\n",
       "      <td>15247300.0</td>\n",
       "    </tr>\n",
       "    <tr>\n",
       "      <th>2004-08-25</th>\n",
       "      <td>53.164113</td>\n",
       "      <td>3.886792</td>\n",
       "      <td>1.183658</td>\n",
       "      <td>9188600.0</td>\n",
       "    </tr>\n",
       "    <tr>\n",
       "      <th>...</th>\n",
       "      <td>...</td>\n",
       "      <td>...</td>\n",
       "      <td>...</td>\n",
       "      <td>...</td>\n",
       "    </tr>\n",
       "    <tr>\n",
       "      <th>2018-03-21</th>\n",
       "      <td>1094.000000</td>\n",
       "      <td>1.964351</td>\n",
       "      <td>0.130884</td>\n",
       "      <td>1990515.0</td>\n",
       "    </tr>\n",
       "    <tr>\n",
       "      <th>2018-03-22</th>\n",
       "      <td>1053.150000</td>\n",
       "      <td>3.254997</td>\n",
       "      <td>-2.487014</td>\n",
       "      <td>3418154.0</td>\n",
       "    </tr>\n",
       "    <tr>\n",
       "      <th>2018-03-23</th>\n",
       "      <td>1026.550000</td>\n",
       "      <td>4.082607</td>\n",
       "      <td>-2.360729</td>\n",
       "      <td>2413517.0</td>\n",
       "    </tr>\n",
       "    <tr>\n",
       "      <th>2018-03-26</th>\n",
       "      <td>1054.090000</td>\n",
       "      <td>4.619150</td>\n",
       "      <td>0.332191</td>\n",
       "      <td>3272409.0</td>\n",
       "    </tr>\n",
       "    <tr>\n",
       "      <th>2018-03-27</th>\n",
       "      <td>1006.940000</td>\n",
       "      <td>6.645878</td>\n",
       "      <td>-5.353887</td>\n",
       "      <td>2940957.0</td>\n",
       "    </tr>\n",
       "  </tbody>\n",
       "</table>\n",
       "<p>3424 rows × 4 columns</p>\n",
       "</div>"
      ],
      "text/plain": [
       "             Adj. Close    HL_PCT  CHANGE_PCT  Adj. Volume\n",
       "Date                                                      \n",
       "2004-08-19    50.322842  8.072956    0.324968   44659000.0\n",
       "2004-08-20    54.322689  7.921706    7.227007   22834300.0\n",
       "2004-08-23    54.869377  4.049360   -1.227880   18256100.0\n",
       "2004-08-24    52.597363  7.657099   -5.726357   15247300.0\n",
       "2004-08-25    53.164113  3.886792    1.183658    9188600.0\n",
       "...                 ...       ...         ...          ...\n",
       "2018-03-21  1094.000000  1.964351    0.130884    1990515.0\n",
       "2018-03-22  1053.150000  3.254997   -2.487014    3418154.0\n",
       "2018-03-23  1026.550000  4.082607   -2.360729    2413517.0\n",
       "2018-03-26  1054.090000  4.619150    0.332191    3272409.0\n",
       "2018-03-27  1006.940000  6.645878   -5.353887    2940957.0\n",
       "\n",
       "[3424 rows x 4 columns]"
      ]
     },
     "execution_count": 6,
     "metadata": {},
     "output_type": "execute_result"
    }
   ],
   "source": [
    "df = df[['Adj. Close', 'HL_PCT', 'CHANGE_PCT', 'Adj. Volume']]\n",
    "df"
   ]
  },
  {
   "cell_type": "markdown",
   "metadata": {},
   "source": [
    "# Define forcast column"
   ]
  },
  {
   "cell_type": "code",
   "execution_count": 7,
   "metadata": {
    "scrolled": true
   },
   "outputs": [
    {
     "name": "stderr",
     "output_type": "stream",
     "text": [
      "C:\\Users\\HP EliteBook 840\\Anaconda3\\lib\\site-packages\\pandas\\core\\frame.py:4259: SettingWithCopyWarning: \n",
      "A value is trying to be set on a copy of a slice from a DataFrame\n",
      "\n",
      "See the caveats in the documentation: http://pandas.pydata.org/pandas-docs/stable/user_guide/indexing.html#returning-a-view-versus-a-copy\n",
      "  **kwargs\n"
     ]
    }
   ],
   "source": [
    "forecast_col = 'Adj. Close'\n",
    "df.fillna(-99999, inplace=True)\n",
    "forecast_out = int(math.ceil(0.1*len(df)))"
   ]
  },
  {
   "cell_type": "markdown",
   "metadata": {},
   "source": [
    "# Define Label"
   ]
  },
  {
   "cell_type": "code",
   "execution_count": 8,
   "metadata": {},
   "outputs": [
    {
     "name": "stdout",
     "output_type": "stream",
     "text": [
      "            Adj. Close    HL_PCT  CHANGE_PCT  Adj. Volume       Label\n",
      "Date                                                                 \n",
      "2004-08-19   50.322842  8.072956    0.324968   44659000.0  214.005615\n",
      "2004-08-20   54.322689  7.921706    7.227007   22834300.0  210.725489\n",
      "2004-08-23   54.869377  4.049360   -1.227880   18256100.0  208.072299\n",
      "2004-08-24   52.597363  7.657099   -5.726357   15247300.0  218.288837\n",
      "2004-08-25   53.164113  3.886792    1.183658    9188600.0  223.309335\n",
      "            Adj. Close    HL_PCT  CHANGE_PCT  Adj. Volume    Label\n",
      "Date                                                              \n",
      "2016-11-04      781.10  2.237319    1.270582    1970603.0  1094.00\n",
      "2016-11-07      802.03  1.508672    0.890622    1992570.0  1053.15\n",
      "2016-11-08      811.98  2.022217    1.240602    1769069.0  1026.55\n",
      "2016-11-09      805.59  2.442309    0.468927    3098510.0  1054.09\n",
      "2016-11-10      780.29  5.360827   -3.667901    5909609.0  1006.94\n"
     ]
    },
    {
     "name": "stderr",
     "output_type": "stream",
     "text": [
      "C:\\Users\\HP EliteBook 840\\Anaconda3\\lib\\site-packages\\ipykernel_launcher.py:1: SettingWithCopyWarning: \n",
      "A value is trying to be set on a copy of a slice from a DataFrame.\n",
      "Try using .loc[row_indexer,col_indexer] = value instead\n",
      "\n",
      "See the caveats in the documentation: http://pandas.pydata.org/pandas-docs/stable/user_guide/indexing.html#returning-a-view-versus-a-copy\n",
      "  \"\"\"Entry point for launching an IPython kernel.\n",
      "C:\\Users\\HP EliteBook 840\\Anaconda3\\lib\\site-packages\\ipykernel_launcher.py:2: SettingWithCopyWarning: \n",
      "A value is trying to be set on a copy of a slice from a DataFrame\n",
      "\n",
      "See the caveats in the documentation: http://pandas.pydata.org/pandas-docs/stable/user_guide/indexing.html#returning-a-view-versus-a-copy\n",
      "  \n"
     ]
    }
   ],
   "source": [
    "df['Label'] = df[forecast_col].shift(-forecast_out)\n",
    "df.dropna(inplace=True)\n",
    "print(df.head())\n",
    "print(df.tail())"
   ]
  },
  {
   "cell_type": "code",
   "execution_count": 9,
   "metadata": {},
   "outputs": [],
   "source": [
    "X = np.array(df.drop(['Label'], 1))\n",
    "X = preprocessing.scale(X)\n",
    "X_lately = X[-forecast_out:]\n"
   ]
  },
  {
   "cell_type": "code",
   "execution_count": 10,
   "metadata": {},
   "outputs": [
    {
     "name": "stderr",
     "output_type": "stream",
     "text": [
      "C:\\Users\\HP EliteBook 840\\Anaconda3\\lib\\site-packages\\ipykernel_launcher.py:2: SettingWithCopyWarning: \n",
      "A value is trying to be set on a copy of a slice from a DataFrame\n",
      "\n",
      "See the caveats in the documentation: http://pandas.pydata.org/pandas-docs/stable/user_guide/indexing.html#returning-a-view-versus-a-copy\n",
      "  \n"
     ]
    }
   ],
   "source": [
    "y = np.array(df['Label'])\n",
    "df.dropna(inplace=True)"
   ]
  },
  {
   "cell_type": "code",
   "execution_count": 11,
   "metadata": {
    "scrolled": true
   },
   "outputs": [
    {
     "name": "stdout",
     "output_type": "stream",
     "text": [
      "3081 3081\n"
     ]
    }
   ],
   "source": [
    "print(len(X), len(y))"
   ]
  },
  {
   "cell_type": "markdown",
   "metadata": {},
   "source": [
    "# Split Data to Train and Test"
   ]
  },
  {
   "cell_type": "code",
   "execution_count": 12,
   "metadata": {},
   "outputs": [],
   "source": [
    "X_Train, X_Test, y_Train, y_Test = train_test_split(X, y, test_size = 0.2)"
   ]
  },
  {
   "cell_type": "code",
   "execution_count": 13,
   "metadata": {},
   "outputs": [
    {
     "data": {
      "text/plain": [
       "LinearRegression(copy_X=True, fit_intercept=True, n_jobs=None, normalize=False)"
      ]
     },
     "execution_count": 13,
     "metadata": {},
     "output_type": "execute_result"
    }
   ],
   "source": [
    "clf = LinearRegression() \n",
    "clf.fit(X_Train, y_Train)"
   ]
  },
  {
   "cell_type": "code",
   "execution_count": 14,
   "metadata": {},
   "outputs": [
    {
     "name": "stdout",
     "output_type": "stream",
     "text": [
      "0.8930853541582445\n"
     ]
    }
   ],
   "source": [
    "accuracy = clf.score(X_Test, y_Test) # Score is synounymous to test\n",
    "print(accuracy)"
   ]
  },
  {
   "cell_type": "code",
   "execution_count": 15,
   "metadata": {},
   "outputs": [
    {
     "name": "stdout",
     "output_type": "stream",
     "text": [
      "[ 695.96664831  680.23700218  679.85078313  697.56869598  726.22822906\n",
      "  740.89568576  732.93873837  761.30967631  880.15345395  870.37447849\n",
      "  881.08616865  880.12941088  858.17093514  833.8675687   830.7376804\n",
      "  827.84348636  829.70486038  840.3590026   821.63705603  832.80172247\n",
      "  826.62866392  848.85659983  843.8358953   833.05463291  832.75046146\n",
      "  870.11195957  870.26212915  861.60896229  863.33073429  871.79687282\n",
      "  863.29242003  871.98559954  861.3527982   826.24386222  821.914008\n",
      "  796.5174605   850.10444147  849.98806578  830.32501959  821.2935938\n",
      "  800.45154734  814.51312727  807.74130596  787.10745216  810.36095644\n",
      "  814.02658429  821.18367907  819.75838187  814.43271421  840.32574482\n",
      "  830.16148422  849.00044552  826.09960065  837.01634558  822.25949036\n",
      "  819.24193697  826.72320487  811.98187856  800.42114993  789.4746216\n",
      "  799.42919569  808.63499308  840.90508791  850.08707174  847.71350051\n",
      "  850.58200721  843.94158371  843.51895266  849.24141551  861.64742789\n",
      "  853.67671984  867.23780485  867.40145082  874.69938028  865.60946114\n",
      "  846.10834154  857.47662367  918.45540776  918.99382325  918.22827506\n",
      "  921.30808989  932.89872654  920.93398145  941.3755947   936.4183194\n",
      "  944.27737356  948.65337358  949.62018635  946.9637377   949.98873748\n",
      "  954.9397858   944.93689517  929.56227259  944.66770709  932.68621359\n",
      "  953.5186379   945.85281102  974.38758905  969.22576522  967.90862758\n",
      "  957.86238607  962.46682258  956.37174348  987.57133453  976.52780029\n",
      "  970.1022634   979.0956033   968.98209671  974.53542997  965.20796261\n",
      "  950.49894882  936.14925156  969.43500067  954.95500846  982.97578422\n",
      "  963.02472437  950.63674057  952.46073938  957.36934931  964.08064952\n",
      "  952.79893229  982.22970664  993.37041055  985.93291846  972.05782933\n",
      "  951.33510822  954.06172937  955.87293673  934.43422551  923.77996675\n",
      "  921.32263464  933.00515607  924.76803862  938.99975706  899.92637031\n",
      "  904.36252954  927.01097429  925.07412293  929.23784172  926.23694367\n",
      "  920.13448887  909.22528442  944.60681942  960.01703413  964.19326199\n",
      "  987.11695688  974.05954112  921.0308018   892.9968573   892.3210158\n",
      "  898.93653774  891.14131371  894.53854361  888.36935319  900.02130925\n",
      "  921.93960103  906.89562675  904.47113102  912.92743669  901.9415307\n",
      "  911.63385589  918.4095386   910.02331203  900.37590599  941.02488846\n",
      "  924.02232812  915.45181931  911.46832219  902.28892203  900.73097943\n",
      "  911.17182865  918.45129784  929.3991881   938.50076433  938.61419068\n",
      "  949.40068578  945.0974419   942.6375033   954.85000768  947.49879611\n",
      "  946.13641671  940.63843666  938.16079359  965.56310745  959.05559963\n",
      "  953.66575209  966.71496324  956.57059528  945.63610967  962.38974845\n",
      "  951.69003906  950.46835116  946.11649938  958.69192357  965.1451381\n",
      "  965.22365165  970.44718985  984.56219479  978.32403113  965.94900799\n",
      "  971.68203008  929.62980603  927.02804138  920.6935114   908.75263366\n",
      "  896.84973725  882.98208645  893.04955919  881.97423655  891.44855358\n",
      "  892.50020969  911.48488911  912.5235752   923.01138947  916.24464396\n",
      "  911.85091943  904.71394264  916.93830531  908.50867246  903.68212628\n",
      "  895.21781415  905.77375932  894.15889084  921.65724181  920.29031074\n",
      "  919.85815247  935.71373425  933.33160461  933.21024575  930.50890946\n",
      "  917.84501266  912.97976605  910.50099141  926.97246097  926.70515893\n",
      "  916.03963031  915.05824447  916.96679992  911.81190973  910.03706116\n",
      "  888.7065862   883.38969757  888.04139541  887.42503771  898.99331024\n",
      "  865.46953584  852.61025161  863.15403447  866.58449622  879.2653646\n",
      "  887.99422546  881.52082935  892.21311953  885.21982354  898.37599656\n",
      "  910.23289819  914.47395268  909.15613038  916.27827788  915.90391875\n",
      "  950.20323946  939.95346132  943.38430397  940.07358752  946.31714323\n",
      "  943.00659304  943.78812837  950.70440959  954.1153291   987.31050032\n",
      " 1010.20359821  996.23249473  994.17547885  992.18295076 1006.46497797\n",
      " 1001.47215147 1007.05801718 1004.51992151 1006.78887593 1002.02648632\n",
      " 1003.98685782  997.88351575 1005.32368458  999.17675336  993.32089368\n",
      "  990.82063946  990.23544013  988.69434017  985.89260894  990.60317832\n",
      "  992.74153159  987.6558527   981.37531142  985.03272153  989.25020819\n",
      " 1013.28527591 1005.87472602  999.90449536  987.0682352  1003.59717311\n",
      "  985.56947279  986.13915542 1005.15020111  991.04330299  993.47749982\n",
      "  993.68747853 1004.95643898 1019.27374603 1011.72502659 1001.1730804\n",
      " 1013.77033827 1008.85597561 1004.58874158 1000.22257976  996.45296337\n",
      "  999.22199134  998.13401126  999.44824307  998.76771611 1021.05883453\n",
      " 1012.09362203 1009.91198872 1001.71368832 1002.44671836 1007.1635328\n",
      " 1029.22970566 1028.75172708 1022.98125411 1024.40845334 1041.59752958\n",
      " 1035.45783093 1026.25505688 1019.63848425 1029.64904306 1013.51177728\n",
      " 1009.30911388  993.70041868  977.23971274  982.53083441 1002.76907769\n",
      " 1019.24309042 1012.68367026  998.43212171] 0.8930853541582445 343\n"
     ]
    }
   ],
   "source": [
    "forecast_set = clf.predict(X_lately)\n",
    "print(forecast_set, accuracy, forecast_out)"
   ]
  },
  {
   "cell_type": "code",
   "execution_count": 16,
   "metadata": {},
   "outputs": [
    {
     "name": "stderr",
     "output_type": "stream",
     "text": [
      "C:\\Users\\HP EliteBook 840\\Anaconda3\\lib\\site-packages\\ipykernel_launcher.py:1: SettingWithCopyWarning: \n",
      "A value is trying to be set on a copy of a slice from a DataFrame.\n",
      "Try using .loc[row_indexer,col_indexer] = value instead\n",
      "\n",
      "See the caveats in the documentation: http://pandas.pydata.org/pandas-docs/stable/user_guide/indexing.html#returning-a-view-versus-a-copy\n",
      "  \"\"\"Entry point for launching an IPython kernel.\n"
     ]
    }
   ],
   "source": [
    "df['Forecast'] = np.nan"
   ]
  },
  {
   "cell_type": "code",
   "execution_count": 17,
   "metadata": {},
   "outputs": [],
   "source": [
    "last_date = df.iloc[-1].name\n",
    "last_unix = last_date.timestamp()\n",
    "one_day = 86400\n",
    "next_unix = last_unix + one_day"
   ]
  },
  {
   "cell_type": "code",
   "execution_count": 18,
   "metadata": {},
   "outputs": [
    {
     "name": "stderr",
     "output_type": "stream",
     "text": [
      "C:\\Users\\HP EliteBook 840\\Anaconda3\\lib\\site-packages\\pandas\\core\\indexing.py:205: SettingWithCopyWarning: \n",
      "A value is trying to be set on a copy of a slice from a DataFrame\n",
      "\n",
      "See the caveats in the documentation: http://pandas.pydata.org/pandas-docs/stable/user_guide/indexing.html#returning-a-view-versus-a-copy\n",
      "  self._setitem_with_indexer(indexer, value)\n",
      "C:\\Users\\HP EliteBook 840\\Anaconda3\\lib\\site-packages\\ipykernel_launcher.py:4: SettingWithCopyWarning: \n",
      "A value is trying to be set on a copy of a slice from a DataFrame\n",
      "\n",
      "See the caveats in the documentation: http://pandas.pydata.org/pandas-docs/stable/user_guide/indexing.html#returning-a-view-versus-a-copy\n",
      "  after removing the cwd from sys.path.\n"
     ]
    }
   ],
   "source": [
    "for i in forecast_set:\n",
    "    next_date = datetime.datetime.fromtimestamp(next_unix)\n",
    "    next_unix =+ one_day\n",
    "    df.loc[next_date] = [np.nan for _ in range(len(df.columns)-1)] + [i]"
   ]
  },
  {
   "cell_type": "markdown",
   "metadata": {},
   "source": [
    "# Visualise model "
   ]
  },
  {
   "cell_type": "code",
   "execution_count": 19,
   "metadata": {},
   "outputs": [
    {
     "data": {
      "image/png": "[encoded data removed]",
      "text/plain": [
       "<Figure size 432x288 with 1 Axes>"
      ]
     },
     "metadata": {},
     "output_type": "display_data"
    }
   ],
   "source": [
    "df['Adj. Close'].plot()\n",
    "df['Forecast'].plot()\n",
    "plt.legend(loc=4)\n",
    "plt.xlabel('Date')\n",
    "plt.ylabel('Price')\n",
    "plt.show()"
   ]
  },
  {
   "cell_type": "code",
   "execution_count": null,
   "metadata": {},
   "outputs": [],
   "source": []
  }
 ],
 "metadata": {
  "kernelspec": {
   "display_name": "Python [conda env:root] *",
   "language": "python",
   "name": "conda-root-py"
  },
  "language_info": {
   "codemirror_mode": {
    "name": "ipython",
    "version": 3
   },
   "file_extension": ".py",
   "mimetype": "text/x-python",
   "name": "python",
   "nbconvert_exporter": "python",
   "pygments_lexer": "ipython3",
   "version": "3.7.5"
  }
 },
 "nbformat": 4,
 "nbformat_minor": 2
}
